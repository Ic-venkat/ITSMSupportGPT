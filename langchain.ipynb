{
 "cells": [
  {
   "cell_type": "code",
   "execution_count": 5,
   "metadata": {},
   "outputs": [
    {
     "data": {
      "text/plain": [
       "True"
      ]
     },
     "execution_count": 5,
     "metadata": {},
     "output_type": "execute_result"
    }
   ],
   "source": [
    "import os\n",
    "from dotenv import load_dotenv, find_dotenv\n",
    "\n",
    "load_dotenv(find_dotenv(), override=True)"
   ]
  },
  {
   "cell_type": "code",
   "execution_count": 12,
   "metadata": {},
   "outputs": [],
   "source": [
    "from langchain_community.chat_models import ChatOpenAI\n",
    "\n",
    "llm = ChatOpenAI()\n",
    "output = llm.invoke(\n",
    "    \"Explain quantum mechanics in one sentence\", model=\"gpt-4-turbo-preview\"\n",
    ")"
   ]
  },
  {
   "cell_type": "code",
   "execution_count": 13,
   "metadata": {},
   "outputs": [
    {
     "name": "stdout",
     "output_type": "stream",
     "text": [
      "Quantum mechanics is a fundamental theory in physics that describes the behaviors and interactions of particles at the quantum level, including phenomena like superposition, entanglement, and wave-particle duality, which cannot be explained by classical physics.\n"
     ]
    }
   ],
   "source": [
    "print(output.content)"
   ]
  },
  {
   "cell_type": "code",
   "execution_count": 15,
   "metadata": {},
   "outputs": [
    {
     "name": "stdout",
     "output_type": "stream",
     "text": [
      "The symptoms of an ulcer can vary depending on the location and severity of the ulcer. Common symptoms of an ulcer may include:\n",
      "\n",
      "- Burning stomach pain\n",
      "- Feeling full or bloated\n",
      "- Belching\n",
      "- Nausea\n",
      "- Vomiting\n",
      "- Loss of appetite\n",
      "- Weight loss\n",
      "- Fatigue\n",
      "- Blood in vomit or stool (which can appear black or tarry)\n",
      "\n",
      "It's important to note that some people with ulcers may not experience any symptoms at all. If you suspect you have an ulcer, it's important to see a healthcare provider for a proper diagnosis and treatment.\n"
     ]
    }
   ],
   "source": [
    "from langchain.schema import SystemMessage, AIMessage, HumanMessage\n",
    "\n",
    "messages = [\n",
    "    SystemMessage(\n",
    "        content=\"You are a medical expert which can answer any prescription question\"\n",
    "    ),\n",
    "    HumanMessage(content=\"What are the symptoms for ulcer\"),\n",
    "]\n",
    "\n",
    "output = llm.invoke(messages)\n",
    "print(output.content)"
   ]
  },
  {
   "cell_type": "code",
   "execution_count": 21,
   "metadata": {},
   "outputs": [],
   "source": [
    "from langchain.globals import set_llm_cache\n",
    "from langchain_openai import OpenAI\n",
    "\n",
    "llm = OpenAI(model_name=\"gpt-3.5-turbo-instruct\")"
   ]
  },
  {
   "cell_type": "code",
   "execution_count": 23,
   "metadata": {},
   "outputs": [
    {
     "name": "stdout",
     "output_type": "stream",
     "text": [
      "CPU times: total: 156 ms\n",
      "Wall time: 1 s\n"
     ]
    },
    {
     "data": {
      "text/plain": [
       "\"\\n\\nWhy couldn't the bicycle stand up by itself?\\nBecause it was two-tired!\""
      ]
     },
     "execution_count": 23,
     "metadata": {},
     "output_type": "execute_result"
    }
   ],
   "source": [
    "%%time\n",
    "from langchain.cache import InMemoryCache\n",
    "\n",
    "set_llm_cache(InMemoryCache())\n",
    "prompt = \"Tell Me a joke\"\n",
    "llm.invoke(prompt)"
   ]
  },
  {
   "cell_type": "code",
   "execution_count": 24,
   "metadata": {},
   "outputs": [
    {
     "name": "stdout",
     "output_type": "stream",
     "text": [
      "CPU times: total: 0 ns\n",
      "Wall time: 0 ns\n"
     ]
    },
    {
     "data": {
      "text/plain": [
       "\"\\n\\nWhy couldn't the bicycle stand up by itself?\\nBecause it was two-tired!\""
      ]
     },
     "execution_count": 24,
     "metadata": {},
     "output_type": "execute_result"
    }
   ],
   "source": [
    "%%time\n",
    "llm.invoke(prompt)"
   ]
  },
  {
   "cell_type": "code",
   "execution_count": 25,
   "metadata": {},
   "outputs": [
    {
     "name": "stdout",
     "output_type": "stream",
     "text": [
      "Verse 1:\n",
      "In the dead of night, the moon shines bright\n",
      "Casting shadows on the land\n",
      "A raven calls out, its cry so loud\n",
      "A mysterious and haunting band\n",
      "\n",
      "Chorus:\n",
      "Moon and raven, together they roam\n",
      "In the darkness, they find their home\n",
      "Their spirits intertwined, forever in flight\n",
      "A rock and roll symphony, under the moon's light\n",
      "\n",
      "Verse 2:\n",
      "The raven soars, with a grace so rare\n",
      "Its wings beating against the night\n",
      "The moon watches on, a silent observer\n",
      "As the raven takes its flight\n",
      "\n",
      "Chorus:\n",
      "Moon and raven, together they roam\n",
      "In the darkness, they find their home\n",
      "Their spirits intertwined, forever in flight\n",
      "A rock and roll symphony, under the moon's light\n",
      "\n",
      "Bridge:\n",
      "The moon whispers secrets, the raven knows them all\n",
      "Together they dance in the shadows, never to fall\n",
      "Their bond unbreakable, their connection strong\n",
      "In the night they belong\n",
      "\n",
      "Chorus:\n",
      "Moon and raven, together they roam\n",
      "In the darkness, they find their home\n",
      "Their spirits intertwined, forever in flight\n",
      "A rock and roll symphony, under the moon's light\n",
      "\n",
      "Outro:\n",
      "Moon and raven, a mystical pair\n",
      "Their song echoes through the night\n",
      "In the darkness, they find solace\n",
      "Forever in each other's sight.\n"
     ]
    }
   ],
   "source": [
    "from langchain_openai import ChatOpenAI\n",
    "\n",
    "llm = ChatOpenAI()\n",
    "prompt = \"Write a rock song about the Moon and a Raven\"\n",
    "print(llm.invoke(prompt).content)"
   ]
  },
  {
   "cell_type": "code",
   "execution_count": 30,
   "metadata": {},
   "outputs": [
    {
     "name": "stdout",
     "output_type": "stream",
     "text": [
      "Verse 1:\n",
      "Underneath the moonlit sky\n",
      "A raven spreads its wings to fly\n",
      "Silhouetted against the night\n",
      "It calls out in a haunting cry\n",
      "\n",
      "Chorus:\n",
      "Oh moon and raven, dance in the dark\n",
      "A symphony of beauty and stark\n",
      "In the shadows they roam\n",
      "A timeless tale of moon and raven's home\n",
      "\n",
      "Verse 2:\n",
      "The moon's gentle glow\n",
      "Illuminates the raven's show\n",
      "As it soars through the night\n",
      "A creature of mystery and might\n",
      "\n",
      "Chorus:\n",
      "Oh moon and raven, dance in the dark\n",
      "A symphony of beauty and stark\n",
      "In the shadows they roam\n",
      "A timeless tale of moon and raven's home\n",
      "\n",
      "Bridge:\n",
      "The raven calls out to the moon\n",
      "A song of sorrow and of tune\n",
      "Their bond unbreakable and true\n",
      "In the night sky, they continue\n",
      "\n",
      "Chorus:\n",
      "Oh moon and raven, dance in the dark\n",
      "A symphony of beauty and stark\n",
      "In the shadows they roam\n",
      "A timeless tale of moon and raven's home\n",
      "\n",
      "Outro:\n",
      "As the night fades away\n",
      "The moon and raven will stay\n",
      "A mystical connection, never to sever\n",
      "In the darkness, they'll reign forever."
     ]
    }
   ],
   "source": [
    "for chunk in llm.stream(prompt):\n",
    "    print(chunk.content, end=\"\", flush=True)"
   ]
  },
  {
   "cell_type": "code",
   "execution_count": 34,
   "metadata": {},
   "outputs": [
    {
     "data": {
      "text/plain": [
       "'You are an experienced virologist\\nwrite a few sentences about the following virus Hiv in Telugu.'"
      ]
     },
     "execution_count": 34,
     "metadata": {},
     "output_type": "execute_result"
    }
   ],
   "source": [
    "from langchain.prompts import PromptTemplate\n",
    "from langchain_openai import ChatOpenAI\n",
    "\n",
    "template = \"\"\"You are an experienced virologist\n",
    "write a few sentences about the following virus {Virus} in {Language}.\"\"\"\n",
    "\n",
    "prompt_template = PromptTemplate.from_template(template=template)\n",
    "\n",
    "prompt = prompt_template.format(Virus=\"Hiv\", Language=\"Telugu\")\n",
    "prompt"
   ]
  },
  {
   "cell_type": "code",
   "execution_count": 35,
   "metadata": {},
   "outputs": [
    {
     "name": "stdout",
     "output_type": "stream",
     "text": [
      "HIV వైరస్ ఒక మానవ వైరస్ మరియు ఇది ఎయిడ్స్ కారణం అవుతుంది. ఇది మానవ శరీరంలో ఇమ్యూనో సిస్టమ్ ను క్రింది పరిమితం చేస్తుంది, అది మనసులో మరియు శరీరంలో వ్యాపిస్తుంది. ఇది సెక్స్ మరియు రక్తం ద్వారా వ్యాపిస్తుంది. హెచ్చరిక: హెచ్చరికగా ఉండండి, సెక్స్ మరియు రక్తం ద్వారా వ్యాపించకూడదు.\n"
     ]
    }
   ],
   "source": [
    "llm = ChatOpenAI(model_name=\"gpt-3.5-turbo\", temperature=0)\n",
    "output = llm.invoke(prompt)\n",
    "print(output.content)"
   ]
  },
  {
   "cell_type": "code",
   "execution_count": 40,
   "metadata": {},
   "outputs": [
    {
     "name": "stdout",
     "output_type": "stream",
     "text": [
      "[SystemMessage(content='You only response in JSON format'), HumanMessage(content='Top 5 countries in asia by population')]\n"
     ]
    }
   ],
   "source": [
    "from langchain.prompts import ChatPromptTemplate, HumanMessagePromptTemplate\n",
    "from langchain_core.messages import SystemMessage\n",
    "\n",
    "chat_template = ChatPromptTemplate.from_messages(\n",
    "    [\n",
    "        SystemMessage(content=\"You only response in JSON format\"),\n",
    "        HumanMessagePromptTemplate.from_template(\n",
    "            \"Top {n} countries in {area} by population\"\n",
    "        ),\n",
    "    ]\n",
    ")\n",
    "\n",
    "messages = chat_template.format_messages(n=\"5\", area=\"asia\")\n",
    "print(messages)"
   ]
  },
  {
   "cell_type": "code",
   "execution_count": 41,
   "metadata": {},
   "outputs": [
    {
     "name": "stdout",
     "output_type": "stream",
     "text": [
      "{\n",
      "    \"countries\": [\n",
      "        {\n",
      "            \"name\": \"China\",\n",
      "            \"population\": 1439323776\n",
      "        },\n",
      "        {\n",
      "            \"name\": \"India\",\n",
      "            \"population\": 1380004385\n",
      "        },\n",
      "        {\n",
      "            \"name\": \"Indonesia\",\n",
      "            \"population\": 273523615\n",
      "        },\n",
      "        {\n",
      "            \"name\": \"Pakistan\",\n",
      "            \"population\": 220892331\n",
      "        },\n",
      "        {\n",
      "            \"name\": \"Bangladesh\",\n",
      "                       \"population\": 164689383\n",
      "        }\n",
      "    ]\n",
      "}\n"
     ]
    }
   ],
   "source": [
    "from langchain_openai import ChatOpenAI\n",
    "\n",
    "llm = ChatOpenAI()\n",
    "\n",
    "output = llm.invoke(messages)\n",
    "print(output.content)"
   ]
  },
  {
   "cell_type": "code",
   "execution_count": 44,
   "metadata": {},
   "outputs": [
    {
     "name": "stdout",
     "output_type": "stream",
     "text": [
      "{'virus': 'HSV', 'language': 'english', 'text': \"HSV, or herpes simplex virus, is a common virus that can cause cold sores or genital herpes. There are two types of HSV: HSV-1, which usually causes oral herpes, and HSV-2, which typically causes genital herpes. The virus is highly contagious and is spread through direct contact with an infected person's skin or bodily fluids. While there is no cure for HSV, antiviral medications can help manage symptoms and reduce the frequency of outbreaks.\"}\n"
     ]
    }
   ],
   "source": [
    "from langchain_openai import ChatOpenAI\n",
    "from langchain import PromptTemplate\n",
    "from langchain.chains import LLMChain\n",
    "\n",
    "llm = ChatOpenAI()\n",
    "template = \"\"\"You are a experienced virologiest.\n",
    "Write a few sentences about the following virus {virus} in {language}\"\"\"\n",
    "\n",
    "prompt_template = PromptTemplate.from_template(template=template)\n",
    "\n",
    "chain = LLMChain(llm=llm, prompt=prompt_template)\n",
    "\n",
    "output = chain.invoke({\"virus\": \"HSV\", \"language\": \"english\"})\n",
    "print(output)"
   ]
  },
  {
   "cell_type": "code",
   "execution_count": 45,
   "metadata": {},
   "outputs": [
    {
     "data": {
      "text/plain": [
       "LLMChain(prompt=PromptTemplate(input_variables=['language', 'virus'], template='You are a experienced virologiest.\\nWrite a few sentences about the following virus {virus} in {language}'), llm=ChatOpenAI(client=<openai.resources.chat.completions.Completions object at 0x000001D854D05610>, async_client=<openai.resources.chat.completions.AsyncCompletions object at 0x000001D85488E190>, openai_api_key=SecretStr('**********'), openai_proxy=''))"
      ]
     },
     "execution_count": 45,
     "metadata": {},
     "output_type": "execute_result"
    }
   ],
   "source": [
    "chain"
   ]
  },
  {
   "cell_type": "code",
   "execution_count": 47,
   "metadata": {},
   "outputs": [
    {
     "name": "stdout",
     "output_type": "stream",
     "text": [
      "\n",
      "\n",
      "\u001b[1m> Entering new SimpleSequentialChain chain...\u001b[0m\n",
      "\u001b[36;1m\u001b[1;3mSure! Here is an implementation of Linear Regression in Python:\n",
      "\n",
      "```python\n",
      "import numpy as np\n",
      "\n",
      "def linear_regression(X, y):\n",
      "    # Add a column of ones to X for the intercept term\n",
      "    X = np.c_[np.ones(X.shape[0]), X]\n",
      "    \n",
      "    # Calculate the coefficients using the normal equation\n",
      "    theta = np.linalg.inv(X.T.dot(X)).dot(X.T).dot(y)\n",
      "    \n",
      "    return theta\n",
      "\n",
      "# Example usage\n",
      "X = np.array([[1, 2], [2, 3], [3, 4], [4, 5]])\n",
      "y = np.array([2, 3, 4, 5])\n",
      "\n",
      "coefficients = linear_regression(X, y)\n",
      "print(coefficients)\n",
      "```\n",
      "\n",
      "This function takes in a matrix X containing the features and a vector y containing the target values. It then adds a column of ones to X for the intercept term, calculates the coefficients using the normal equation, and returns the coefficients as a vector.\u001b[0m\n",
      "\u001b[33;1m\u001b[1;3mThe provided Python function `linear_regression` is designed to compute the parameters (coefficients) of a linear regression model using a mathematical method known as the Normal Equation. It demonstrates a relatively simple and direct way to find the optimal parameters for a linear model that minimizes the cost function, without the need for iterative optimization methods like gradient descent.\n",
      "\n",
      "Here's a step-by-step breakdown of what the function does:\n",
      "\n",
      "1. **Parameter Inputs:**\n",
      "    - `X`: This parameter represents the feature matrix or the independent variables in the regression equation. It is expected to be a NumPy array with each row being an observation and each column being a feature.\n",
      "    - `y`: This parameter is a vector of the target or dependent variable values in the regression equation. It should have the same number of entries as there are rows in `X`.\n",
      "\n",
      "2. **Adding Intercept Term:**\n",
      "    - To accommodate the intercept term (often denoted as \\(b_0\\) or \\(\\theta_0\\) in linear regression equations), a column of ones is added to the left side of the feature matrix `X`. This is achieved using `np.c_[np.ones(X.shape[0]), X]`. This operation augments `X` to account for the intercept in the linear model \\(y = b_0 + b_1x_1 + b_2x_2 + \\ldots + b_nx_n\\).\n",
      "\n",
      "3. **Calculating Coefficients Using the Normal Equation:**\n",
      "    - The Normal Equation formula \\(\\theta = (X^TX)^{-1}X^Ty\\) is used to directly find the values of the parameters (coefficients) \\(\\theta\\), where \\(X^T\\) is the transpose of \\(X\\), and \\((X^TX)^{-1}\\) is the inverse of the matrix \\(X^TX\\). This formula derived from setting the gradient of the cost function to zero and solving for \\(\\theta\\), guarantees finding the global minimum of the cost function.\n",
      "    - The function computes \\(\\theta\\) using `np.linalg.inv(X.T.dot(X)).dot(X.T).dot(y)`, which involves matrix multiplication and inversion operations provided by NumPy.\n",
      "\n",
      "4. **Return Value:**\n",
      "    - The function returns `theta`, a vector containing the optimized coefficients, including the intercept term. The first element of `theta` corresponds to the intercept, and the remaining elements correspond to the coefficients of the respective features of `X`.\n",
      "\n",
      "5. **Example Usage:**\n",
      "    - The given example demonstrates how to use the `linear_regression` function by providing a simple dataset:\n",
      "        - `X` is a 2D NumPy array representing 2 features for 4 observations.\n",
      "        - `y` is a 1D NumPy array representing the dependent variable values corresponding to each observation.\n",
      "    - After calling the function with these inputs, it prints the resulting vector of coefficients.\n",
      "\n",
      "This implementation of linear regression using the Normal Equation is straightforward and efficient for datasets of moderate size. However, for very large datasets or datasets where \\(X^TX\\) may be non-invertible (\"singular\" or \"nearly singular\"), alternative approaches like pseudo-inverse computation or regularized linear regression might be preferred.\n",
      "\n",
      "In summary, the `linear_regression` function is a concise and direct way of obtaining linear regression coefficients without the need for guessing, iterative methods, or third-party machine learning libraries.\u001b[0m\n",
      "\n",
      "\u001b[1m> Finished chain.\u001b[0m\n"
     ]
    }
   ],
   "source": [
    "from langchain_openai import ChatOpenAI\n",
    "from langchain import PromptTemplate\n",
    "from langchain.chains import LLMChain, SimpleSequentialChain\n",
    "\n",
    "llm1 = ChatOpenAI(model_name=\"gpt-3.5-turbo\", temperature=0.5)\n",
    "prompt_template1 = PromptTemplate.from_template(\n",
    "    template=\"You are an experienced scientist and python programmer. Write a function that implements the concept of {concept}.\"\n",
    ")\n",
    "\n",
    "chain1 = LLMChain(llm=llm1, prompt=prompt_template1)\n",
    "\n",
    "llm2 = ChatOpenAI(model_name=\"gpt-4-turbo-preview\", temperature=1.2)\n",
    "prompt_template2 = PromptTemplate.from_template(\n",
    "    template=\"Given the python function {function}, describe it as detailed as possible.\"\n",
    ")\n",
    "\n",
    "chain2 = LLMChain(llm=llm2, prompt=prompt_template2)\n",
    "\n",
    "overall_chain = SimpleSequentialChain(chains=[chain1, chain2], verbose=True)\n",
    "output = overall_chain.invoke(\"Linear Regression\")"
   ]
  },
  {
   "cell_type": "code",
   "execution_count": 48,
   "metadata": {},
   "outputs": [
    {
     "name": "stdout",
     "output_type": "stream",
     "text": [
      "The provided Python function `linear_regression` is designed to compute the parameters (coefficients) of a linear regression model using a mathematical method known as the Normal Equation. It demonstrates a relatively simple and direct way to find the optimal parameters for a linear model that minimizes the cost function, without the need for iterative optimization methods like gradient descent.\n",
      "\n",
      "Here's a step-by-step breakdown of what the function does:\n",
      "\n",
      "1. **Parameter Inputs:**\n",
      "    - `X`: This parameter represents the feature matrix or the independent variables in the regression equation. It is expected to be a NumPy array with each row being an observation and each column being a feature.\n",
      "    - `y`: This parameter is a vector of the target or dependent variable values in the regression equation. It should have the same number of entries as there are rows in `X`.\n",
      "\n",
      "2. **Adding Intercept Term:**\n",
      "    - To accommodate the intercept term (often denoted as \\(b_0\\) or \\(\\theta_0\\) in linear regression equations), a column of ones is added to the left side of the feature matrix `X`. This is achieved using `np.c_[np.ones(X.shape[0]), X]`. This operation augments `X` to account for the intercept in the linear model \\(y = b_0 + b_1x_1 + b_2x_2 + \\ldots + b_nx_n\\).\n",
      "\n",
      "3. **Calculating Coefficients Using the Normal Equation:**\n",
      "    - The Normal Equation formula \\(\\theta = (X^TX)^{-1}X^Ty\\) is used to directly find the values of the parameters (coefficients) \\(\\theta\\), where \\(X^T\\) is the transpose of \\(X\\), and \\((X^TX)^{-1}\\) is the inverse of the matrix \\(X^TX\\). This formula derived from setting the gradient of the cost function to zero and solving for \\(\\theta\\), guarantees finding the global minimum of the cost function.\n",
      "    - The function computes \\(\\theta\\) using `np.linalg.inv(X.T.dot(X)).dot(X.T).dot(y)`, which involves matrix multiplication and inversion operations provided by NumPy.\n",
      "\n",
      "4. **Return Value:**\n",
      "    - The function returns `theta`, a vector containing the optimized coefficients, including the intercept term. The first element of `theta` corresponds to the intercept, and the remaining elements correspond to the coefficients of the respective features of `X`.\n",
      "\n",
      "5. **Example Usage:**\n",
      "    - The given example demonstrates how to use the `linear_regression` function by providing a simple dataset:\n",
      "        - `X` is a 2D NumPy array representing 2 features for 4 observations.\n",
      "        - `y` is a 1D NumPy array representing the dependent variable values corresponding to each observation.\n",
      "    - After calling the function with these inputs, it prints the resulting vector of coefficients.\n",
      "\n",
      "This implementation of linear regression using the Normal Equation is straightforward and efficient for datasets of moderate size. However, for very large datasets or datasets where \\(X^TX\\) may be non-invertible (\"singular\" or \"nearly singular\"), alternative approaches like pseudo-inverse computation or regularized linear regression might be preferred.\n",
      "\n",
      "In summary, the `linear_regression` function is a concise and direct way of obtaining linear regression coefficients without the need for guessing, iterative methods, or third-party machine learning libraries.\n"
     ]
    }
   ],
   "source": [
    "print(output[\"output\"])"
   ]
  },
  {
   "cell_type": "code",
   "execution_count": 49,
   "metadata": {},
   "outputs": [
    {
     "name": "stdout",
     "output_type": "stream",
     "text": [
      "Note: you may need to restart the kernel to use updated packages.\n"
     ]
    },
    {
     "name": "stderr",
     "output_type": "stream",
     "text": [
      "\n",
      "[notice] A new release of pip is available: 23.3.2 -> 24.0\n",
      "[notice] To update, run: python.exe -m pip install --upgrade pip\n"
     ]
    }
   ],
   "source": [
    "pip install -q langchain_experimental"
   ]
  },
  {
   "cell_type": "code",
   "execution_count": 50,
   "metadata": {},
   "outputs": [
    {
     "name": "stderr",
     "output_type": "stream",
     "text": [
      "Python REPL can execute arbitrary code. Use with caution.\n"
     ]
    },
    {
     "data": {
      "text/plain": [
       "'[13, 26, 39, 52, 65, 78, 91]\\n'"
      ]
     },
     "execution_count": 50,
     "metadata": {},
     "output_type": "execute_result"
    }
   ],
   "source": [
    "from langchain_experimental.utilities import PythonREPL\n",
    "\n",
    "python_repl = PythonREPL()\n",
    "python_repl.run(\"print([n for n in range(1,100) if n%13 == 0])\")"
   ]
  },
  {
   "cell_type": "code",
   "execution_count": 51,
   "metadata": {},
   "outputs": [
    {
     "name": "stdout",
     "output_type": "stream",
     "text": [
      "\n",
      "\n",
      "\u001b[1m> Entering new AgentExecutor chain...\u001b[0m\n",
      "\u001b[32;1m\u001b[1;3mFirst, I need to calculate the factorial of 12. Then, I will find the square root of that result. Finally, I will format the result to display it with 4 decimal points.\n",
      "Action: Python_REPL\n",
      "Action Input: import math\n",
      "print(f\"{math.sqrt(math.factorial(12)):.4f}\")\u001b[0m\n",
      "Observation: \u001b[36;1m\u001b[1;3m21886.1052\n",
      "\u001b[0m\n",
      "Thought:\u001b[32;1m\u001b[1;3mI now know the final answer\n",
      "Final Answer: 21886.1052\u001b[0m\n",
      "\n",
      "\u001b[1m> Finished chain.\u001b[0m\n"
     ]
    },
    {
     "data": {
      "text/plain": [
       "{'input': 'Calculate the square root of the factorial of 12 and display it with 4 decimal points',\n",
       " 'output': '21886.1052'}"
      ]
     },
     "execution_count": 51,
     "metadata": {},
     "output_type": "execute_result"
    }
   ],
   "source": [
    "from langchain_experimental.agents.agent_toolkits import create_python_agent\n",
    "from langchain_experimental.tools.python.tool import PythonREPLTool\n",
    "from langchain_openai import ChatOpenAI\n",
    "\n",
    "llm = ChatOpenAI(model=\"gpt-4-turbo-preview\", temperature=0)\n",
    "agent_executor = create_python_agent(llm=llm, tool=PythonREPLTool(), verbose=True)\n",
    "\n",
    "agent_executor.invoke(\n",
    "    \"Calculate the square root of the factorial of 12 and display it with 4 decimal points\"\n",
    ")"
   ]
  },
  {
   "cell_type": "code",
   "execution_count": 52,
   "metadata": {},
   "outputs": [
    {
     "name": "stdout",
     "output_type": "stream",
     "text": [
      "Note: you may need to restart the kernel to use updated packages.\n"
     ]
    },
    {
     "name": "stderr",
     "output_type": "stream",
     "text": [
      "\n",
      "[notice] A new release of pip is available: 23.3.2 -> 24.0\n",
      "[notice] To update, run: python.exe -m pip install --upgrade pip\n"
     ]
    }
   ],
   "source": [
    "pip install -q duckduckgo-search"
   ]
  },
  {
   "cell_type": "code",
   "execution_count": 1,
   "metadata": {},
   "outputs": [
    {
     "name": "stdout",
     "output_type": "stream",
     "text": [
      "1) The Ericsson holdings reported above reflect the holdings as of December 31, 2021. The Ericsson holdings of the President and CEO reflect the holdings as of February 22, 2022. The number of shares and ADS includes holdings by related persons if applicable. Ericsson (NASDAQ: ERIC) today announces the appointment of Senior Vice President Niklas Heuveldop as new Head of Business Area Global Communications Platform and CEO of Vonage. Mr. Heuveldop who ... Börje Ekholm, CEO of Ericsson, discusses the company's $14 billion deal with AT&T, the 5G cycle, and the outlook for 6G. Ericsson (NASDAQ: ERIC) today announces the appointment of Chris Houghton to Chief Operating Officer (COO) and Åsa Tamsons to Head of Business Area Enterprise Wireless Solutions. Both Mr. Houghton and Ms. Tamsons will report to Börje Ekholm, President and CEO of Ericsson. Hans Vestberg is chief executive officer of Verizon Communications, a leading provider of wireless, fiber-optic and global Internet networks and services. ... In 2007, he became Ericsson's chief financial officer, and was promoted to CEO in 2009. He led more than 115,000 employees and Ericsson's transformation from its focus on hardware to ...\n"
     ]
    }
   ],
   "source": [
    "from langchain.tools import DuckDuckGoSearchRun\n",
    "\n",
    "search = DuckDuckGoSearchRun()\n",
    "output = search.invoke(\"Who is the CEO of ericsson\")\n",
    "print(output)"
   ]
  },
  {
   "cell_type": "code",
   "execution_count": 3,
   "metadata": {},
   "outputs": [
    {
     "name": "stdout",
     "output_type": "stream",
     "text": [
      "[snippet: The ship sets sail from the Gdynia terminal at 9 PM and arrives in Karlskrona between 7 and 7:30 AM, depending on the day. The departure and arrival times are the same for the return trip. On certain days, there are late afternoon or midnight departures available. Alternatively, you can opt for a 24-hour cruise without disembarking, which can ..., title: How to Spend 24 Hours in Karlskrona: Best Things to See and Do, link: https://www.intothebloom.com/karlskrona-travel-guide/], [snippet: Nestled on the southeastern coast of Sweden, Karlskrona stands as a picturesque town with a rich maritime history. Established in 1680, this UNESCO World Heritage site is renowned for its well-preserved naval base and enchanting archipelago. Karlskrona seamlessly blends its historical significance with a vibrant modern atmosphere, making it a perfect destination for those seeking …, title: Exploring Karlskrona: A Comprehensive Travel Guide, link: https://bigtravelbuzz.com/exploring-karlskrona-a-comprehensive-travel-guide/], [snippet: Hi Friends Join us as we visit Karlskrona, Sweden's picturesque maritime gem! from our Ambassador cruise ship Ambience. Located in the southeastern part of..., title: Karlskrona, Sweden: Coastal Delights & Island Paradise, come ... - YouTube, link: https://www.youtube.com/watch?v=d_O8JbX2bW4], [snippet: Karlskrona is a seaport and the capital city of Blekinge County (southern Sweden) with total area approx 22 km2 (8 mi2) and population around 35,000. Karlskrona is popular as Sweden's only baroque city and houses country's largest naval base (Karlskrona Orlogsbas) and Swedish Coast Guard's (Kustbevakningen) headquarters., title: Karlskrona (Sweden) cruise port schedule | CruiseMapper, link: https://www.cruisemapper.com/ports/karlskrona-port-171]\n"
     ]
    }
   ],
   "source": [
    "from langchain.tools import DuckDuckGoSearchResults\n",
    "\n",
    "search = DuckDuckGoSearchResults()\n",
    "output = search.run(\"What is Karlskrona\")\n",
    "print(output)"
   ]
  },
  {
   "cell_type": "code",
   "execution_count": 5,
   "metadata": {},
   "outputs": [
    {
     "name": "stdout",
     "output_type": "stream",
     "text": [
      "<class 'langchain_core.prompts.prompt.PromptTemplate'>\n",
      "['agent_scratchpad', 'input', 'tool_names', 'tools']\n",
      "Answer the following questions as best you can. You have access to the following tools:\n",
      "\n",
      "{tools}\n",
      "\n",
      "Use the following format:\n",
      "\n",
      "Question: the input question you must answer\n",
      "Thought: you should always think about what to do\n",
      "Action: the action to take, should be one of [{tool_names}]\n",
      "Action Input: the input to the action\n",
      "Observation: the result of the action\n",
      "... (this Thought/Action/Action Input/Observation can repeat N times)\n",
      "Thought: I now know the final answer\n",
      "Final Answer: the final answer to the original input question\n",
      "\n",
      "Begin!\n",
      "\n",
      "Question: {input}\n",
      "Thought:{agent_scratchpad}\n"
     ]
    }
   ],
   "source": [
    "from langchain.prompts import PromptTemplate\n",
    "from langchain import hub\n",
    "from langchain.agents import Tool, AgentExecutor, initialize_agent, create_react_agent\n",
    "from langchain.tools import DuckDuckGoSearchRun, WikipediaQueryRun\n",
    "from langchain.utilities import WikipediaAPIWrapper\n",
    "from langchain_experimental.tools.python.tool import PythonREPLTool\n",
    "from langchain_openai import ChatOpenAI\n",
    "\n",
    "llm = ChatOpenAI(model_name=\"gpt-4-turbo-preview\", temperature=0)\n",
    "\n",
    "template = \"\"\"\n",
    "Answer the following questions as best as you can.\n",
    "Question {q}\n",
    "\"\"\"\n",
    "\n",
    "prompt_template = PromptTemplate.from_template(template)\n",
    "prompt = hub.pull(\"hwchase17/react\")\n",
    "print(type(prompt))\n",
    "\n",
    "print(prompt.input_variables)\n",
    "print(prompt.template)\n",
    "\n",
    "# Python REPl tool (for executing Python code)\n",
    "python_repl = PythonREPLTool()\n",
    "python_repl_tool = Tool(\n",
    "    name=\"PythonRepl\",\n",
    "    func=python_repl.run,\n",
    "    description=\"Useful when you need to use python to answer a question. You should input python code. \",\n",
    ")\n",
    "\n",
    "# Wikipedia tool to search wikipedia\n",
    "api_wrapper = WikipediaAPIWrapper()\n",
    "wikipedia = WikipediaQueryRun(api_wrapper=api_wrapper)\n",
    "wikipedia_tool = Tool(\n",
    "    name=\"Wikipedia\",\n",
    "    func=wikipedia.run,\n",
    "    description=\"Useful for when you need to look for a topic, country, or a person on wikipedia\",\n",
    ")\n",
    "\n",
    "\n",
    "# DuckDuckGi Search Tool (for general web searches)\n",
    "search = DuckDuckGoSearchRun()\n",
    "duckduckgo_tool = Tool(\n",
    "    name=\"DuckDuckGo Search\",\n",
    "    func=search.run,\n",
    "    description=\"Useful for when you need to perform an internet search to find information that another tool cant provide.\",\n",
    ")\n",
    "\n",
    "\n",
    "tools = [python_repl_tool, wikipedia_tool, duckduckgo_tool]\n",
    "agent = create_react_agent(llm, tools, prompt)\n",
    "agent_executor = AgentExecutor(\n",
    "    agent=agent,\n",
    "    tools=tools,\n",
    "    verbose=True,\n",
    "    handle_parsing_errors=True,\n",
    "    max_iterations=10,\n",
    ")"
   ]
  },
  {
   "cell_type": "code",
   "execution_count": 8,
   "metadata": {},
   "outputs": [
    {
     "name": "stdout",
     "output_type": "stream",
     "text": [
      "\n",
      "\n",
      "\u001b[1m> Entering new AgentExecutor chain...\u001b[0m\n",
      "\u001b[32;1m\u001b[1;3mTo provide a comprehensive overview of Napoleon Bonaparte, I should use Wikipedia to find detailed information about his life, achievements, and impact on history.\n",
      "Action: Wikipedia\n",
      "Action Input: Napoleon Bonaparte\u001b[0m\u001b[33;1m\u001b[1;3mPage: Napoleon\n",
      "Summary: Napoleon Bonaparte (born Napoleone di Buonaparte; 15 August 1769 – 5 May 1821), later known by his regnal name Napoleon I, was a French emperor and military commander who rose to prominence during the French Revolution and led successful campaigns during the Revolutionary Wars. He was the leader of the French Republic as First Consul from 1799 to 1804, then of the French Empire as Emperor of the French from 1804 until 1814, and briefly again in 1815. His political and cultural legacy endures as a celebrated and controversial leader. He initiated many enduring reforms, but has been criticized for his authoritarian rule. He is considered one of the greatest military commanders in history and his wars and campaigns are still studied at military schools worldwide. However, historians still debate the degree to which he was responsible for the Napoleonic Wars, in which between three and six million people died.Napoleon was born on the island of Corsica into a family descended from Italian nobility. He was resentful of the French monarchy, and supported the French Revolution in 1789 while serving in the French army, trying to spread its ideals to his native Corsica. He rose rapidly in the ranks after saving the governing French Directory by firing on royalist insurgents. In 1796, he began a military campaign against the Austrians and their Italian allies, scoring decisive victories, and became a national hero. Two years later he led a military expedition to Egypt that served as a springboard to political power. He engineered a coup in November 1799 and became First Consul of the Republic. In 1804, to consolidate and expand his power, he crowned himself Emperor of the French.\n",
      "Differences with the United Kingdom meant France faced the War of the Third Coalition by 1805. Napoleon shattered this coalition with victories in the Ulm campaign and at the Battle of Austerlitz, which led to the dissolution of the Holy Roman Empire. In 1806, the Fourth Coalition took up arms against him. Napoleon defeated Prussia at the battles of Jena and Auerstedt, marched the Grande Armée into Eastern Europe, and defeated the Russians in June 1807 at Friedland, forcing the defeated nations of the Fourth Coalition to accept the Treaties of Tilsit. Two years later, the Austrians challenged the French again during the War of the Fifth Coalition, but Napoleon solidified his grip over Europe after triumphing at the Battle of Wagram.\n",
      "Hoping to extend the Continental System, his embargo against Britain, Napoleon invaded the Iberian Peninsula and declared his brother Joseph the King of Spain in 1808. The Spanish and the Portuguese revolted in the Peninsular War aided by a British army, culminating in defeat for Napoleon's marshals. Napoleon launched an invasion of Russia in the summer of 1812. The resulting campaign witnessed the catastrophic retreat of Napoleon's Grande Armée. In 1813, Prussia and Austria joined Russian forces in a Sixth Coalition against France, resulting in a large coalition army defeating Napoleon at the Battle of Leipzig. The coalition invaded France and captured Paris, forcing Napoleon to abdicate in April 1814. He was exiled to the island of Elba, between Corsica and Italy. In France, the Bourbons were restored to power.\n",
      "Napoleon escaped in February 1815 and took control of France. The Allies responded by forming a Seventh Coalition, which defeated Napoleon at the Battle of Waterloo in June 1815. The British exiled him to the remote island of Saint Helena in the Atlantic, where he died in 1821 at the age of 51.\n",
      "Napoleon had a lasting impact on the world, bringing modernizing reforms to France and Western Europe and stimulating the development of nation states. He also sold the Louisiana Territory to the United States in 1803, doubling the latter's size. However, his mixed record on civil rights and exploitation of conquered territories adversely affect his reputation.\n",
      "\n",
      "\n",
      "\n",
      "Page: Napoleon III\n",
      "Summary: Napoleon III (Charl\u001b[0m\u001b[32;1m\u001b[1;3mI now know the final answer\n",
      "\n",
      "Final Answer: Napoleon Bonaparte (15 August 1769 – 5 May 1821), later known as Napoleon I, was a French emperor and military leader who rose to prominence during the French Revolution and led successful campaigns during the Revolutionary Wars. He served as the leader of the French Republic as First Consul from 1799 to 1804 and then as Emperor of the French from 1804 until 1814, and briefly in 1815. Napoleon is celebrated for his military genius and reforms in France and Western Europe, though his authoritarian rule and the wars he led, which resulted in millions of deaths, are subjects of criticism. He was born in Corsica to a family of Italian nobility and became a national hero after several military victories. Napoleon's efforts to extend his empire led to the Napoleonic Wars, which shaped European politics in the early 19th century. After his defeat at the Battle of Waterloo in 1815, he was exiled to the island of Saint Helena, where he died in 1821. His actions and reforms had a lasting impact on the development of nations and modern governmental institutions.\u001b[0m\n",
      "\n",
      "\u001b[1m> Finished chain.\u001b[0m\n"
     ]
    }
   ],
   "source": [
    "question = 'Tell me about napolean bonaparte'\n",
    "\n",
    "output = agent_executor.invoke({\n",
    "    'input': prompt_template.format(q=question)\n",
    "})"
   ]
  },
  {
   "cell_type": "code",
   "execution_count": null,
   "metadata": {},
   "outputs": [],
   "source": []
  }
 ],
 "metadata": {
  "kernelspec": {
   "display_name": "Python 3",
   "language": "python",
   "name": "python3"
  },
  "language_info": {
   "codemirror_mode": {
    "name": "ipython",
    "version": 3
   },
   "file_extension": ".py",
   "mimetype": "text/x-python",
   "name": "python",
   "nbconvert_exporter": "python",
   "pygments_lexer": "ipython3",
   "version": "3.11.8"
  }
 },
 "nbformat": 4,
 "nbformat_minor": 2
}
